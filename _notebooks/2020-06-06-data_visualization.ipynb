{
 "cells": [
  {
   "cell_type": "markdown",
   "metadata": {},
   "source": [
    "# Visualization of Scientific Data with Python\n",
    "\n",
    "> This  jupyter-notebook contains some examples on how to visualize scientic data using the python libraries pandas and seaborn.\n",
    "- toc: True\n",
    "- metadata_key1: forcefield\n",
    "- metadata_key2: lennard-jones cluster\n"
   ]
  },
  {
   "cell_type": "markdown",
   "metadata": {},
   "source": [
    "This  jupyter-notebook contains some examples on how to visualize scientic data in a chemistry context using the python libraries [pandas](https://pandas.pydata.org/) and [seaborn](https://seaborn.pydata.org/).\n",
    "\n",
    "Pandas is a library that comes quite handy with tabular data (aka dataframes), and provides function to manipulate this data:\n",
    "\n",
    "`pip install pandas`\n",
    "\n",
    "Seaborn is a nice plotting library that can work with the Pandas dataframes:\n",
    "\n",
    "`pip install seaborn`\n",
    "\n"
   ]
  },
  {
   "cell_type": "code",
   "execution_count": 8,
   "metadata": {},
   "outputs": [],
   "source": [
    "import pandas as pd\n",
    "import seaborn as sns"
   ]
  },
  {
   "cell_type": "markdown",
   "metadata": {},
   "source": []
  },
  {
   "cell_type": "code",
   "execution_count": 10,
   "metadata": {},
   "outputs": [],
   "source": [
    "%matplotlib inline\n",
    "import matplotlib\n",
    "import matplotlib.pyplot as plt"
   ]
  },
  {
   "cell_type": "markdown",
   "metadata": {},
   "source": [
    "This dataset is a nice collection of about 30,000 melting points for different chemicals and is available from [here](https://figshare.com/articles/Jean_Claude_Bradley_Open_Melting_Point_Datset/1031637). It also contains some additional information like name of the compound or the identifier from the [Chemspider](http://www.chemspider.com/) database (csid)."
   ]
  },
  {
   "cell_type": "code",
   "execution_count": 15,
   "metadata": {},
   "outputs": [
    {
     "data": {
      "text/html": [
       "<div>\n",
       "<style scoped>\n",
       "    .dataframe tbody tr th:only-of-type {\n",
       "        vertical-align: middle;\n",
       "    }\n",
       "\n",
       "    .dataframe tbody tr th {\n",
       "        vertical-align: top;\n",
       "    }\n",
       "\n",
       "    .dataframe thead th {\n",
       "        text-align: right;\n",
       "    }\n",
       "</style>\n",
       "<table border=\"1\" class=\"dataframe\">\n",
       "  <thead>\n",
       "    <tr style=\"text-align: right;\">\n",
       "      <th></th>\n",
       "      <th>key</th>\n",
       "      <th>name</th>\n",
       "      <th>smiles</th>\n",
       "      <th>mpC</th>\n",
       "      <th>csid</th>\n",
       "      <th>link</th>\n",
       "      <th>source</th>\n",
       "      <th>donotuse</th>\n",
       "      <th>donotusebecause</th>\n",
       "    </tr>\n",
       "  </thead>\n",
       "  <tbody>\n",
       "    <tr>\n",
       "      <th>0</th>\n",
       "      <td>1</td>\n",
       "      <td>2-(2,4-dinitrobenzyl)pyridine</td>\n",
       "      <td>c1ccnc(c1)Cc2ccc(cc2[N+](=O)[O-])[N+](=O)[O-]</td>\n",
       "      <td>92.0</td>\n",
       "      <td>64018</td>\n",
       "      <td>http://www.alfa.com/en/GP100W.pgm?DSSTK=B24192</td>\n",
       "      <td>Alfa Aesar</td>\n",
       "      <td>NaN</td>\n",
       "      <td>NaN</td>\n",
       "    </tr>\n",
       "    <tr>\n",
       "      <th>1</th>\n",
       "      <td>2</td>\n",
       "      <td>2-(1-piperidinyl)aniline</td>\n",
       "      <td>c1ccc(c(c1)N)N2CCCCC2</td>\n",
       "      <td>46.0</td>\n",
       "      <td>403764</td>\n",
       "      <td>http://www.alfa.com/en/GP100W.pgm?DSSTK=A13073</td>\n",
       "      <td>Alfa Aesar</td>\n",
       "      <td>NaN</td>\n",
       "      <td>NaN</td>\n",
       "    </tr>\n",
       "    <tr>\n",
       "      <th>2</th>\n",
       "      <td>3</td>\n",
       "      <td>2-(1-piperazinyl)pyrimidine</td>\n",
       "      <td>c1cnc(nc1)N2CCNCC2</td>\n",
       "      <td>33.0</td>\n",
       "      <td>80080</td>\n",
       "      <td>http://www.alfa.com/en/GP100W.pgm?DSSTK=L15884</td>\n",
       "      <td>Alfa Aesar</td>\n",
       "      <td>NaN</td>\n",
       "      <td>NaN</td>\n",
       "    </tr>\n",
       "    <tr>\n",
       "      <th>3</th>\n",
       "      <td>4</td>\n",
       "      <td>2-(1-piperazinyl)phenol</td>\n",
       "      <td>c1ccc(c(c1)N2CCNCC2)O</td>\n",
       "      <td>125.0</td>\n",
       "      <td>63701</td>\n",
       "      <td>http://www.alfa.com/en/GP100W.pgm?DSSTK=B20252</td>\n",
       "      <td>Alfa Aesar</td>\n",
       "      <td>NaN</td>\n",
       "      <td>NaN</td>\n",
       "    </tr>\n",
       "    <tr>\n",
       "      <th>4</th>\n",
       "      <td>5</td>\n",
       "      <td>2-(1-cyclohexenyl)ethylamine</td>\n",
       "      <td>C1CCC(=CC1)CCN</td>\n",
       "      <td>-55.0</td>\n",
       "      <td>69388</td>\n",
       "      <td>http://www.alfa.com/en/GP100W.pgm?DSSTK=L08261</td>\n",
       "      <td>Alfa Aesar</td>\n",
       "      <td>NaN</td>\n",
       "      <td>NaN</td>\n",
       "    </tr>\n",
       "    <tr>\n",
       "      <th>...</th>\n",
       "      <td>...</td>\n",
       "      <td>...</td>\n",
       "      <td>...</td>\n",
       "      <td>...</td>\n",
       "      <td>...</td>\n",
       "      <td>...</td>\n",
       "      <td>...</td>\n",
       "      <td>...</td>\n",
       "      <td>...</td>\n",
       "    </tr>\n",
       "    <tr>\n",
       "      <th>28640</th>\n",
       "      <td>28641</td>\n",
       "      <td>xanthene</td>\n",
       "      <td>c1ccc2c(c1)Cc3ccccc3O2</td>\n",
       "      <td>100.5</td>\n",
       "      <td>6840</td>\n",
       "      <td>http://chemspider.com/6840</td>\n",
       "      <td>EPISuite-ChemSpider</td>\n",
       "      <td>NaN</td>\n",
       "      <td>NaN</td>\n",
       "    </tr>\n",
       "    <tr>\n",
       "      <th>28641</th>\n",
       "      <td>28642</td>\n",
       "      <td>xanthene</td>\n",
       "      <td>c1ccc2c(c1)Cc3ccccc3O2</td>\n",
       "      <td>100.5</td>\n",
       "      <td>6840</td>\n",
       "      <td>http://www.amazon.com/gp/product/0849304865/</td>\n",
       "      <td>CRC Handbook of Chemistry and Physics</td>\n",
       "      <td>NaN</td>\n",
       "      <td>NaN</td>\n",
       "    </tr>\n",
       "    <tr>\n",
       "      <th>28642</th>\n",
       "      <td>28643</td>\n",
       "      <td>xanthene</td>\n",
       "      <td>c1ccc2c(c1)Cc3ccccc3O2</td>\n",
       "      <td>101.5</td>\n",
       "      <td>6840</td>\n",
       "      <td>http://www.sigmaaldrich.com/united-states.html</td>\n",
       "      <td>Sigma-Aldrich</td>\n",
       "      <td>NaN</td>\n",
       "      <td>NaN</td>\n",
       "    </tr>\n",
       "    <tr>\n",
       "      <th>28643</th>\n",
       "      <td>28644</td>\n",
       "      <td>Xanthene</td>\n",
       "      <td>C1C2=CC=CC=C2OC3=CC=CC=C31</td>\n",
       "      <td>101.0</td>\n",
       "      <td>6840</td>\n",
       "      <td>http://dx.doi.org/10.1016/j.chemosphere.2013.1...</td>\n",
       "      <td>Abraham M.H. and Acree Jr. W.E. The solubility...</td>\n",
       "      <td>NaN</td>\n",
       "      <td>NaN</td>\n",
       "    </tr>\n",
       "    <tr>\n",
       "      <th>28644</th>\n",
       "      <td>28645</td>\n",
       "      <td>Z-crotononitrile</td>\n",
       "      <td>N#C\\C=C/C</td>\n",
       "      <td>-72.6</td>\n",
       "      <td>558873</td>\n",
       "      <td>http://en.wikipedia.org/wiki/Bulletin_des_Soci...</td>\n",
       "      <td>Bulletin des Societes Chimiques Belges</td>\n",
       "      <td>NaN</td>\n",
       "      <td>NaN</td>\n",
       "    </tr>\n",
       "  </tbody>\n",
       "</table>\n",
       "<p>28645 rows × 9 columns</p>\n",
       "</div>"
      ],
      "text/plain": [
       "         key                           name  \\\n",
       "0          1  2-(2,4-dinitrobenzyl)pyridine   \n",
       "1          2       2-(1-piperidinyl)aniline   \n",
       "2          3    2-(1-piperazinyl)pyrimidine   \n",
       "3          4        2-(1-piperazinyl)phenol   \n",
       "4          5   2-(1-cyclohexenyl)ethylamine   \n",
       "...      ...                            ...   \n",
       "28640  28641                       xanthene   \n",
       "28641  28642                       xanthene   \n",
       "28642  28643                       xanthene   \n",
       "28643  28644                       Xanthene   \n",
       "28644  28645               Z-crotononitrile   \n",
       "\n",
       "                                              smiles    mpC    csid  \\\n",
       "0      c1ccnc(c1)Cc2ccc(cc2[N+](=O)[O-])[N+](=O)[O-]   92.0   64018   \n",
       "1                              c1ccc(c(c1)N)N2CCCCC2   46.0  403764   \n",
       "2                                 c1cnc(nc1)N2CCNCC2   33.0   80080   \n",
       "3                              c1ccc(c(c1)N2CCNCC2)O  125.0   63701   \n",
       "4                                     C1CCC(=CC1)CCN  -55.0   69388   \n",
       "...                                              ...    ...     ...   \n",
       "28640                         c1ccc2c(c1)Cc3ccccc3O2  100.5    6840   \n",
       "28641                         c1ccc2c(c1)Cc3ccccc3O2  100.5    6840   \n",
       "28642                         c1ccc2c(c1)Cc3ccccc3O2  101.5    6840   \n",
       "28643                     C1C2=CC=CC=C2OC3=CC=CC=C31  101.0    6840   \n",
       "28644                                      N#C\\C=C/C  -72.6  558873   \n",
       "\n",
       "                                                    link  \\\n",
       "0         http://www.alfa.com/en/GP100W.pgm?DSSTK=B24192   \n",
       "1         http://www.alfa.com/en/GP100W.pgm?DSSTK=A13073   \n",
       "2         http://www.alfa.com/en/GP100W.pgm?DSSTK=L15884   \n",
       "3         http://www.alfa.com/en/GP100W.pgm?DSSTK=B20252   \n",
       "4         http://www.alfa.com/en/GP100W.pgm?DSSTK=L08261   \n",
       "...                                                  ...   \n",
       "28640                         http://chemspider.com/6840   \n",
       "28641       http://www.amazon.com/gp/product/0849304865/   \n",
       "28642     http://www.sigmaaldrich.com/united-states.html   \n",
       "28643  http://dx.doi.org/10.1016/j.chemosphere.2013.1...   \n",
       "28644  http://en.wikipedia.org/wiki/Bulletin_des_Soci...   \n",
       "\n",
       "                                                  source donotuse  \\\n",
       "0                                             Alfa Aesar      NaN   \n",
       "1                                             Alfa Aesar      NaN   \n",
       "2                                             Alfa Aesar      NaN   \n",
       "3                                             Alfa Aesar      NaN   \n",
       "4                                             Alfa Aesar      NaN   \n",
       "...                                                  ...      ...   \n",
       "28640                                EPISuite-ChemSpider      NaN   \n",
       "28641              CRC Handbook of Chemistry and Physics      NaN   \n",
       "28642                                      Sigma-Aldrich      NaN   \n",
       "28643  Abraham M.H. and Acree Jr. W.E. The solubility...      NaN   \n",
       "28644             Bulletin des Societes Chimiques Belges      NaN   \n",
       "\n",
       "      donotusebecause  \n",
       "0                 NaN  \n",
       "1                 NaN  \n",
       "2                 NaN  \n",
       "3                 NaN  \n",
       "4                 NaN  \n",
       "...               ...  \n",
       "28640             NaN  \n",
       "28641             NaN  \n",
       "28642             NaN  \n",
       "28643             NaN  \n",
       "28644             NaN  \n",
       "\n",
       "[28645 rows x 9 columns]"
      ]
     },
     "execution_count": 15,
     "metadata": {},
     "output_type": "execute_result"
    }
   ],
   "source": [
    "df = pd.read_excel(\"../data/BradleyMeltingPointDataset.xlsx\")\n",
    "df"
   ]
  },
  {
   "cell_type": "markdown",
   "metadata": {},
   "source": [
    "Showing some info and the datatypes of each column:"
   ]
  },
  {
   "cell_type": "code",
   "execution_count": 19,
   "metadata": {},
   "outputs": [
    {
     "name": "stdout",
     "output_type": "stream",
     "text": [
      "<class 'pandas.core.frame.DataFrame'>\n",
      "RangeIndex: 28645 entries, 0 to 28644\n",
      "Data columns (total 9 columns):\n",
      "key                28645 non-null int64\n",
      "name               28645 non-null object\n",
      "smiles             28645 non-null object\n",
      "mpC                28645 non-null float64\n",
      "csid               28645 non-null int64\n",
      "link               28634 non-null object\n",
      "source             28645 non-null object\n",
      "donotuse           377 non-null object\n",
      "donotusebecause    377 non-null object\n",
      "dtypes: float64(1), int64(2), object(6)\n",
      "memory usage: 2.0+ MB\n"
     ]
    }
   ],
   "source": [
    "df.info()"
   ]
  },
  {
   "cell_type": "code",
   "execution_count": 17,
   "metadata": {},
   "outputs": [
    {
     "data": {
      "text/plain": [
       "key                  int64\n",
       "name                object\n",
       "smiles              object\n",
       "mpC                float64\n",
       "csid                 int64\n",
       "link                object\n",
       "source              object\n",
       "donotuse            object\n",
       "donotusebecause     object\n",
       "dtype: object"
      ]
     },
     "execution_count": 17,
     "metadata": {},
     "output_type": "execute_result"
    }
   ],
   "source": [
    "df.dtypes"
   ]
  },
  {
   "cell_type": "markdown",
   "metadata": {},
   "source": [
    "Plotting the melting points a histofram with 30 bins:"
   ]
  },
  {
   "cell_type": "code",
   "execution_count": 16,
   "metadata": {},
   "outputs": [
    {
     "data": {
      "text/plain": [
       "<matplotlib.axes._subplots.AxesSubplot at 0x7f791d0e0198>"
      ]
     },
     "execution_count": 16,
     "metadata": {},
     "output_type": "execute_result"
    },
    {
     "data": {
      "image/png": "[encoded data removed]",
      "text/plain": [
       "<Figure size 432x288 with 1 Axes>"
      ]
     },
     "metadata": {
      "needs_background": "light"
     },
     "output_type": "display_data"
    }
   ],
   "source": [
    "df.mpC.hist(bins=30)"
   ]
  },
  {
   "cell_type": "code",
   "execution_count": null,
   "metadata": {},
   "outputs": [],
   "source": []
  }
 ],
 "metadata": {
  "kernelspec": {
   "display_name": "Python 3",
   "language": "python",
   "name": "python3"
  },
  "language_info": {
   "codemirror_mode": {
    "name": "ipython",
    "version": 3
   },
   "file_extension": ".py",
   "mimetype": "text/x-python",
   "name": "python",
   "nbconvert_exporter": "python",
   "pygments_lexer": "ipython3",
   "version": "3.6.7"
  }
 },
 "nbformat": 4,
 "nbformat_minor": 2
}
